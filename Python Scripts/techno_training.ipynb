{
  "nbformat": 4,
  "nbformat_minor": 0,
  "metadata": {
    "colab": {
      "name": "techno-training.ipynb",
      "provenance": [],
      "toc_visible": true
    },
    "kernelspec": {
      "name": "python3",
      "display_name": "Python 3"
    },
    "language_info": {
      "name": "python"
    }
  },
  "cells": [
    {
      "cell_type": "markdown",
      "metadata": {
        "id": "aa75-Hbg8eGy"
      },
      "source": [
        "# Install dependecies"
      ]
    },
    {
      "cell_type": "code",
      "metadata": {
        "colab": {
          "base_uri": "https://localhost:8080/"
        },
        "id": "cTVr7Ium8ath",
        "outputId": "a3247186-fe28-445d-e468-1a71617471e8"
      },
      "source": [
        "!pip install pydub"
      ],
      "execution_count": 12,
      "outputs": [
        {
          "output_type": "stream",
          "text": [
            "Collecting pydub\n",
            "  Downloading https://files.pythonhosted.org/packages/a6/53/d78dc063216e62fc55f6b2eebb447f6a4b0a59f55c8406376f76bf959b08/pydub-0.25.1-py2.py3-none-any.whl\n",
            "Installing collected packages: pydub\n",
            "Successfully installed pydub-0.25.1\n"
          ],
          "name": "stdout"
        }
      ]
    },
    {
      "cell_type": "markdown",
      "metadata": {
        "id": "BLrzveXg7rR9"
      },
      "source": [
        "# Loading the data"
      ]
    },
    {
      "cell_type": "code",
      "metadata": {
        "colab": {
          "base_uri": "https://localhost:8080/"
        },
        "id": "8aKQ58rN7JCN",
        "outputId": "93120d56-72f7-42a7-cff6-69ccac08e62f"
      },
      "source": [
        "from google.colab import drive\n",
        "drive.mount('/content/gdrive')"
      ],
      "execution_count": 1,
      "outputs": [
        {
          "output_type": "stream",
          "text": [
            "Mounted at /content/gdrive\n"
          ],
          "name": "stdout"
        }
      ]
    },
    {
      "cell_type": "code",
      "metadata": {
        "colab": {
          "base_uri": "https://localhost:8080/"
        },
        "id": "6QgVFQ1N7S2p",
        "outputId": "4d6d3b63-1788-4817-b482-59bb09d16513"
      },
      "source": [
        "cd /content/gdrive/MyDrive/"
      ],
      "execution_count": 5,
      "outputs": [
        {
          "output_type": "stream",
          "text": [
            "/content/gdrive/MyDrive\n"
          ],
          "name": "stdout"
        }
      ]
    },
    {
      "cell_type": "code",
      "metadata": {
        "colab": {
          "base_uri": "https://localhost:8080/"
        },
        "id": "xRJk2VwX7njt",
        "outputId": "39fd6974-edec-49ce-90ac-9684a22fc96e"
      },
      "source": [
        "import pickle\n",
        "with open(\"dataset.txt\", \"rb\") as fp:   # Unpickling\n",
        "    dataset = pickle.load(fp)\n",
        "print(len(dataset))"
      ],
      "execution_count": 9,
      "outputs": [
        {
          "output_type": "stream",
          "text": [
            "52\n"
          ],
          "name": "stdout"
        }
      ]
    },
    {
      "cell_type": "markdown",
      "metadata": {
        "id": "jcCytIrU8S7n"
      },
      "source": [
        "# Data Pre-processing\n"
      ]
    },
    {
      "cell_type": "code",
      "metadata": {
        "id": "9Q6NIALP8YCw"
      },
      "source": [
        "import pydub\n",
        "import os\n",
        "import re\n",
        "import numpy as np\n",
        "import pandas as pd\n",
        "import tensorflow as tf"
      ],
      "execution_count": 14,
      "outputs": []
    },
    {
      "cell_type": "code",
      "metadata": {
        "id": "FtrCNkfS8Rme"
      },
      "source": [
        "#Convert dataset list of numpy arrays to list of tensors\n",
        "for i in range(len(dataset)):\n",
        "    dataset[i] = tf.convert_to_tensor(dataset[i])"
      ],
      "execution_count": 16,
      "outputs": []
    },
    {
      "cell_type": "code",
      "metadata": {
        "id": "hBAsO8aH-DAL"
      },
      "source": [
        "df, train=True\n",
        "lookback = 3\n",
        "for i in range(len(dataset)):  \n",
        "    x1, x2, y1, y2 = [], [], [], []\n",
        "    for i in range(len(df)-look_back-1):\n",
        "        x.append(df.iloc[i : i + look_back, 0].values)\n",
        "        y.append(df.iloc[i : i + look_back, 1].values)\n",
        "        n.append(df.iloc[i + look_back, 0])\n",
        "        m.append(df.iloc[i + look_back, 1])\n",
        "    if train:\n",
        "        return np.array(dataX1), np.array(dataX2), np.array(dataY1), np.array(dataY2)\n",
        "    else:\n",
        "        return np.array(dataX1), np.array(dataX2)"
      ],
      "execution_count": null,
      "outputs": []
    },
    {
      "cell_type": "code",
      "metadata": {
        "id": "nBzYzsz_-GHy"
      },
      "source": [
        "X1, X2, y1, y2 = create_train_dataset(pd.concat([music1.iloc[0:160000, :],music2.iloc[0:160000, :]], axis=0), look_back=3, train=True)"
      ],
      "execution_count": null,
      "outputs": []
    },
    {
      "cell_type": "code",
      "metadata": {
        "id": "g_IztSQL-HtL"
      },
      "source": [
        "test1, test2 = create_test_data(pd.concat([music1.iloc[160001 : 400000, :],music2.iloc[160001 : 400000, :]], axis=0), look_back=3, train=False)"
      ],
      "execution_count": null,
      "outputs": []
    },
    {
      "cell_type": "code",
      "metadata": {
        "id": "PDCzfITy-Ix7"
      },
      "source": [
        "X1 = X1.reshape((-1, 1, 3))\n",
        "X2 = X2.reshape((-1, 1, 3))\n",
        "test1 = test1.reshape((-1, 1, 3))\n",
        "test2 = test2.reshape((-1, 1, 3))"
      ],
      "execution_count": null,
      "outputs": []
    },
    {
      "cell_type": "code",
      "metadata": {
        "colab": {
          "base_uri": "https://localhost:8080/",
          "height": 197
        },
        "id": "Ddk6cfi_81Uu",
        "outputId": "9d57ddb6-21d7-4734-fa1c-17a1db0f55ec"
      },
      "source": [
        "BATCH_SIZE = 64\n",
        "SHUFFLE_BUFFER_SIZE = 100"
      ],
      "execution_count": 20,
      "outputs": [
        {
          "output_type": "error",
          "ename": "AttributeError",
          "evalue": "ignored",
          "traceback": [
            "\u001b[0;31m---------------------------------------------------------------------------\u001b[0m",
            "\u001b[0;31mAttributeError\u001b[0m                            Traceback (most recent call last)",
            "\u001b[0;32m<ipython-input-20-8f9b8d84335c>\u001b[0m in \u001b[0;36m<module>\u001b[0;34m()\u001b[0m\n\u001b[1;32m      1\u001b[0m \u001b[0mBATCH_SIZE\u001b[0m \u001b[0;34m=\u001b[0m \u001b[0;36m64\u001b[0m\u001b[0;34m\u001b[0m\u001b[0;34m\u001b[0m\u001b[0m\n\u001b[1;32m      2\u001b[0m \u001b[0mSHUFFLE_BUFFER_SIZE\u001b[0m \u001b[0;34m=\u001b[0m \u001b[0;36m100\u001b[0m\u001b[0;34m\u001b[0m\u001b[0;34m\u001b[0m\u001b[0m\n\u001b[0;32m----> 3\u001b[0;31m \u001b[0mtrain_dataset\u001b[0m \u001b[0;34m=\u001b[0m \u001b[0mdataset\u001b[0m\u001b[0;34m.\u001b[0m\u001b[0mshuffle\u001b[0m\u001b[0;34m(\u001b[0m\u001b[0mSHUFFLE_BUFFER_SIZE\u001b[0m\u001b[0;34m)\u001b[0m\u001b[0;34m.\u001b[0m\u001b[0mbatch\u001b[0m\u001b[0;34m(\u001b[0m\u001b[0mBATCH_SIZE\u001b[0m\u001b[0;34m)\u001b[0m\u001b[0;34m\u001b[0m\u001b[0;34m\u001b[0m\u001b[0m\n\u001b[0m",
            "\u001b[0;31mAttributeError\u001b[0m: 'list' object has no attribute 'shuffle'"
          ]
        }
      ]
    },
    {
      "cell_type": "markdown",
      "metadata": {
        "id": "u_X0tzGU86rX"
      },
      "source": [
        "# Model making and training"
      ]
    },
    {
      "cell_type": "code",
      "metadata": {
        "id": "_WDWkeJ58-G5"
      },
      "source": [
        "# LSTM Model for channel 1 of the music data\n",
        "rnn1 = Sequential()\n",
        "rnn1.add(LSTM(units=100, activation='relu', input_shape=(None, 3)))\n",
        "rnn1.add(Dense(units=50, activation='relu'))\n",
        "rnn1.add(Dense(units=25, activation='relu'))\n",
        "rnn1.add(Dense(units=12, activation='relu'))\n",
        "rnn1.add(Dense(units=1, activation='relu'))\n",
        "rnn1.compile(optimizer='adam', loss='mean_squared_error')\n",
        "rnn1.fit(X1, y1, epochs=20, batch_size=100)\n",
        "\n",
        "rnn1.compile(optimizer='adam', loss='mean_squared_error')\n",
        "rnn1.fit(X1, y1, epochs=20, batch_size=100)"
      ],
      "execution_count": 18,
      "outputs": []
    },
    {
      "cell_type": "code",
      "metadata": {
        "id": "2uujHqxe9CNB"
      },
      "source": [
        ""
      ],
      "execution_count": null,
      "outputs": []
    }
  ]
}