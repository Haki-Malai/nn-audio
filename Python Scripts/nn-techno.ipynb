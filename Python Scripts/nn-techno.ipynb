{
 "metadata": {
  "language_info": {
   "codemirror_mode": {
    "name": "ipython",
    "version": 3
   },
   "file_extension": ".py",
   "mimetype": "text/x-python",
   "name": "python",
   "nbconvert_exporter": "python",
   "pygments_lexer": "ipython3",
   "version": "3.6.3"
  },
  "orig_nbformat": 2,
  "kernelspec": {
   "name": "python363jvsc74a57bd04c622b718bf9e061ea1a692dd46a8bb5928d3145b3a402924c30e011fa7f6cdc",
   "display_name": "Python 3.6.3 64-bit"
  },
  "metadata": {
   "interpreter": {
    "hash": "4c622b718bf9e061ea1a692dd46a8bb5928d3145b3a402924c30e011fa7f6cdc"
   }
  }
 },
 "nbformat": 4,
 "nbformat_minor": 2,
 "cells": [
  {
   "source": [
    "#Loading Libraries"
   ],
   "cell_type": "markdown",
   "metadata": {}
  },
  {
   "cell_type": "code",
   "execution_count": 1,
   "metadata": {},
   "outputs": [
    {
     "output_type": "stream",
     "name": "stderr",
     "text": [
      "C:\\Users\\HakiM\\AppData\\Local\\Programs\\Python\\Python36\\lib\\site-packages\\pydub\\utils.py:170: RuntimeWarning: Couldn't find ffmpeg or avconv - defaulting to ffmpeg, but may not work\n  warn(\"Couldn't find ffmpeg or avconv - defaulting to ffmpeg, but may not work\", RuntimeWarning)\n"
     ]
    }
   ],
   "source": [
    "import pydub\n",
    "import os\n",
    "import re\n",
    "import numpy as np\n",
    "import pandas as pd\n",
    "import tensorflow as tf\n",
    "from scipy.io.wavfile import read, write"
   ]
  },
  {
   "source": [
    "#Loading the dataset"
   ],
   "cell_type": "markdown",
   "metadata": {}
  },
  {
   "cell_type": "code",
   "execution_count": 33,
   "metadata": {
    "tags": []
   },
   "outputs": [
    {
     "output_type": "stream",
     "name": "stderr",
     "text": [
      "ipykernel_launcher:9: VisibleDeprecationWarning: Creating an ndarray from ragged nested sequences (which is a list-or-tuple of lists-or-tuples-or ndarrays with different lengths or shapes) is deprecated. If you meant to do this, you must specify 'dtype=object' when creating the ndarray\n",
      "Complete:  2.3255813953488373 %\n",
      "Complete:  4.651162790697675 %\n",
      "Complete:  6.976744186046512 %\n",
      "Complete:  9.30232558139535 %\n",
      "Complete:  11.627906976744185 %\n",
      "Complete:  13.953488372093023 %\n",
      "Complete:  16.27906976744186 %\n",
      "Complete:  18.6046511627907 %\n",
      "Complete:  20.930232558139537 %\n",
      "Complete:  23.25581395348837 %\n",
      "Complete:  25.58139534883721 %\n",
      "Complete:  27.906976744186046 %\n",
      "Complete:  30.232558139534884 %\n",
      "Complete:  32.55813953488372 %\n",
      "Complete:  34.883720930232556 %\n",
      "Complete:  37.2093023255814 %\n",
      "Complete:  39.53488372093023 %\n",
      "Complete:  41.86046511627907 %\n",
      "Complete:  44.18604651162791 %\n",
      "Complete:  46.51162790697674 %\n",
      "Complete:  48.83720930232558 %\n",
      "Complete:  51.16279069767442 %\n",
      "Complete:  53.48837209302326 %\n",
      "Complete:  55.81395348837209 %\n",
      "Complete:  58.13953488372093 %\n",
      "Complete:  60.46511627906977 %\n",
      "Complete:  62.7906976744186 %\n",
      "Complete:  65.11627906976744 %\n",
      "Complete:  67.44186046511628 %\n",
      "Complete:  69.76744186046511 %\n",
      "Complete:  72.09302325581395 %\n",
      "Complete:  74.4186046511628 %\n",
      "Complete:  76.74418604651163 %\n",
      "Complete:  79.06976744186046 %\n",
      "Complete:  81.3953488372093 %\n",
      "Complete:  83.72093023255815 %\n",
      "Complete:  86.04651162790698 %\n",
      "Complete:  88.37209302325581 %\n",
      "Complete:  90.69767441860465 %\n",
      "Complete:  93.02325581395348 %\n",
      "Complete:  95.34883720930233 %\n",
      "Complete:  97.67441860465117 %\n",
      "Complete:  100.0 %\n",
      "ipykernel_launcher:19: VisibleDeprecationWarning: Creating an ndarray from ragged nested sequences (which is a list-or-tuple of lists-or-tuples-or ndarrays with different lengths or shapes) is deprecated. If you meant to do this, you must specify 'dtype=object' when creating the ndarray\n",
      "Complete:  2.4390243902439024 %\n",
      "Complete:  4.878048780487805 %\n",
      "Complete:  7.317073170731708 %\n",
      "Complete:  9.75609756097561 %\n",
      "Complete:  12.195121951219512 %\n",
      "Complete:  14.634146341463415 %\n",
      "Complete:  17.073170731707318 %\n",
      "Complete:  19.51219512195122 %\n",
      "Complete:  21.951219512195124 %\n",
      "Complete:  24.390243902439025 %\n",
      "Complete:  26.829268292682926 %\n",
      "Complete:  29.26829268292683 %\n",
      "Complete:  31.70731707317073 %\n",
      "Complete:  34.146341463414636 %\n",
      "Complete:  36.58536585365854 %\n",
      "Complete:  39.02439024390244 %\n",
      "Complete:  41.46341463414634 %\n",
      "Complete:  43.90243902439025 %\n",
      "Complete:  46.34146341463415 %\n",
      "Complete:  48.78048780487805 %\n",
      "Complete:  51.21951219512195 %\n",
      "Complete:  53.65853658536585 %\n",
      "Complete:  56.09756097560975 %\n",
      "Complete:  58.53658536585366 %\n",
      "Complete:  60.97560975609756 %\n",
      "Complete:  63.41463414634146 %\n",
      "Complete:  65.85365853658537 %\n",
      "Complete:  68.29268292682927 %\n",
      "Complete:  70.73170731707317 %\n",
      "Complete:  73.17073170731707 %\n",
      "Complete:  75.60975609756098 %\n",
      "Complete:  78.04878048780488 %\n",
      "Complete:  80.48780487804878 %\n",
      "Complete:  82.92682926829268 %\n",
      "Complete:  85.36585365853658 %\n",
      "Complete:  87.8048780487805 %\n",
      "Complete:  90.2439024390244 %\n",
      "Complete:  92.6829268292683 %\n",
      "Complete:  95.1219512195122 %\n",
      "Complete:  97.5609756097561 %\n",
      "Complete:  100.0 %\n",
      "Script complete with  0  errors.\n"
     ]
    }
   ],
   "source": [
    "#training dataset\n",
    "train_path  = '../dataset/wavLITE/train/'\n",
    "errors = []\n",
    "complete = 0\n",
    "dataset = []\n",
    "for filename in os.listdir(train_path+'true/'):\n",
    "    try:\n",
    "        fs, y = read(train_path+'true/'+filename)\n",
    "        dataset.append(np.array([y[:30000000],1]))\n",
    "        complete = complete + 1\n",
    "    except:\n",
    "        errors.append(filename)\n",
    "    print('Complete: ',(complete*100)/len(os.listdir(train_path+'true/')),'%')\n",
    "\n",
    "complete = 0\n",
    "for filename in os.listdir(train_path+'false/'):\n",
    "    try:\n",
    "        fs, y = read(train_path+'false/'+filename)\n",
    "        dataset.append(np.array([y[:30000000],0]))\n",
    "        complete = complete + 1\n",
    "    except:\n",
    "        errors.append(filename)\n",
    "    print('Complete: ',(complete*100)/len(os.listdir(train_path+'false/')),'%')\n",
    "\n",
    "print(\"Script complete with \", len(errors), \" errors.\")\n",
    "if len(errors):\n",
    "    for error in errors:\n",
    "        print(error)"
   ]
  },
  {
   "cell_type": "code",
   "execution_count": 34,
   "metadata": {},
   "outputs": [
    {
     "output_type": "stream",
     "name": "stderr",
     "text": [
      "ipykernel_launcher:9: VisibleDeprecationWarning: Creating an ndarray from ragged nested sequences (which is a list-or-tuple of lists-or-tuples-or ndarrays with different lengths or shapes) is deprecated. If you meant to do this, you must specify 'dtype=object' when creating the ndarray\n",
      "Complete:  20.0 %\n",
      "Complete:  40.0 %\n",
      "Complete:  60.0 %\n",
      "Complete:  80.0 %\n",
      "Complete:  100.0 %\n",
      "Complete:  16.666666666666668 %\n",
      "ipykernel_launcher:19: VisibleDeprecationWarning: Creating an ndarray from ragged nested sequences (which is a list-or-tuple of lists-or-tuples-or ndarrays with different lengths or shapes) is deprecated. If you meant to do this, you must specify 'dtype=object' when creating the ndarray\n",
      "Complete:  33.333333333333336 %\n",
      "Complete:  50.0 %\n",
      "Complete:  66.66666666666667 %\n",
      "Complete:  83.33333333333333 %\n",
      "Complete:  100.0 %\n",
      "Script complete with  0  errors.\n"
     ]
    }
   ],
   "source": [
    "#test dataset\n",
    "test_data = []\n",
    "test_path  = '../dataset/wavLITE/test/'\n",
    "\n",
    "complete = 0\n",
    "for filename in os.listdir(test_path+'true/'):\n",
    "    try:\n",
    "        fs, y = read(test_path+'true/'+filename)\n",
    "        dataset.append(np.array([y[:30000000],1]))\n",
    "        complete = complete + 1\n",
    "    except:\n",
    "        errors.append(filename)\n",
    "    print('Complete: ',(complete*100)/len(os.listdir(test_path+'true/')),'%')\n",
    "\n",
    "complete = 0\n",
    "for filename in os.listdir(test_path+'false/'):\n",
    "    try:\n",
    "        fs, y = read(test_path+'false/'+filename)\n",
    "        dataset.append(np.array([y[:30000000],0]))\n",
    "        complete = complete + 1\n",
    "    except:\n",
    "        errors.append(filename)\n",
    "    print('Complete: ',(complete*100)/len(os.listdir(test_path+'false/')),'%')\n",
    "\n",
    "print(\"Script complete with \", len(errors), \" errors.\")\n",
    "if len(errors):\n",
    "    for error in errors:\n",
    "        print(error)"
   ]
  },
  {
   "source": [
    "#Preprocess data"
   ],
   "cell_type": "markdown",
   "metadata": {}
  },
  {
   "cell_type": "code",
   "execution_count": null,
   "metadata": {},
   "outputs": [],
   "source": [
    "def padding(data):\n",
    "    if len(data) < 30000000:\n",
    "        for i in range(30000000 - len(data)):\n",
    "            data[i] = np.array([0,0])"
   ]
  },
  {
   "cell_type": "code",
   "execution_count": 5,
   "metadata": {},
   "outputs": [],
   "source": [
    "#Convert dataset list of numpy arrays to list of tensors\n",
    "for i in range(len(dataset)):    \n",
    "    dataset[i] = tf.convert_to_tensor(dataset[i])\n",
    "\n",
    "for i in range(len(test_data)):    \n",
    "    test_data[i] = tf.convert_to_tensor(test_data[i])\n",
    "\n"
   ]
  },
  {
   "cell_type": "code",
   "execution_count": null,
   "metadata": {},
   "outputs": [],
   "source": [
    "fs, y = read('../dataset/wavLITE/train/false/Alan Kay at Computerland October \\'91.wav')\n",
    "print(np.array([0,0]))"
   ]
  },
  {
   "cell_type": "code",
   "execution_count": 32,
   "metadata": {},
   "outputs": [
    {
     "output_type": "stream",
     "name": "stdout",
     "text": [
      "2\n"
     ]
    }
   ],
   "source": [
    "print(len(dataset))"
   ]
  },
  {
   "cell_type": "code",
   "execution_count": null,
   "metadata": {},
   "outputs": [],
   "source": []
  }
 ]
}