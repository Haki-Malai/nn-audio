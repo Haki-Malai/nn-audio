{
 "metadata": {
  "language_info": {
   "codemirror_mode": {
    "name": "ipython",
    "version": 3
   },
   "file_extension": ".py",
   "mimetype": "text/x-python",
   "name": "python",
   "nbconvert_exporter": "python",
   "pygments_lexer": "ipython3",
   "version": "3.6.3"
  },
  "orig_nbformat": 2,
  "kernelspec": {
   "name": "python363jvsc74a57bd04c622b718bf9e061ea1a692dd46a8bb5928d3145b3a402924c30e011fa7f6cdc",
   "display_name": "Python 3.6.3 64-bit"
  },
  "metadata": {
   "interpreter": {
    "hash": "4c622b718bf9e061ea1a692dd46a8bb5928d3145b3a402924c30e011fa7f6cdc"
   }
  }
 },
 "nbformat": 4,
 "nbformat_minor": 2,
 "cells": [
  {
   "source": [
    "#Loading Libraries"
   ],
   "cell_type": "markdown",
   "metadata": {}
  },
  {
   "cell_type": "code",
   "execution_count": 3,
   "metadata": {},
   "outputs": [],
   "source": [
    "import pydub\n",
    "import os\n",
    "import re\n",
    "import numpy as np\n",
    "import pandas as pd\n",
    "import tensorflow as tf\n",
    "from scipy.io.wavfile import read, write"
   ]
  },
  {
   "source": [
    "#Loading the dataset"
   ],
   "cell_type": "markdown",
   "metadata": {}
  },
  {
   "cell_type": "code",
   "execution_count": 4,
   "metadata": {
    "tags": []
   },
   "outputs": [
    {
     "output_type": "stream",
     "name": "stderr",
     "text": [
      "ipykernel_launcher:11: VisibleDeprecationWarning: Creating an ndarray from ragged nested sequences (which is a list-or-tuple of lists-or-tuples-or ndarrays with different lengths or shapes) is deprecated. If you meant to do this, you must specify 'dtype=object' when creating the ndarray\n",
      "Complete:  2.127659574468085 %\n",
      "Complete:  4.25531914893617 %\n",
      "Complete:  6.382978723404255 %\n",
      "Complete:  8.51063829787234 %\n",
      "Complete:  10.638297872340425 %\n",
      "Complete:  12.76595744680851 %\n",
      "Complete:  14.893617021276595 %\n",
      "Complete:  17.02127659574468 %\n",
      "Complete:  19.148936170212767 %\n",
      "Complete:  21.27659574468085 %\n",
      "Complete:  23.404255319148938 %\n",
      "Complete:  25.53191489361702 %\n",
      "Complete:  27.659574468085108 %\n",
      "Complete:  29.78723404255319 %\n",
      "Complete:  31.914893617021278 %\n",
      "Complete:  34.04255319148936 %\n",
      "Complete:  36.170212765957444 %\n",
      "Complete:  38.297872340425535 %\n",
      "Complete:  40.42553191489362 %\n",
      "Complete:  42.5531914893617 %\n",
      "Complete:  44.680851063829785 %\n",
      "Complete:  46.808510638297875 %\n",
      "Complete:  48.93617021276596 %\n",
      "Complete:  51.06382978723404 %\n",
      "Complete:  53.191489361702125 %\n",
      "Complete:  55.319148936170215 %\n",
      "Complete:  57.4468085106383 %\n",
      "Complete:  59.57446808510638 %\n",
      "Complete:  61.702127659574465 %\n",
      "Complete:  63.829787234042556 %\n",
      "Complete:  65.95744680851064 %\n",
      "Complete:  68.08510638297872 %\n",
      "Complete:  70.2127659574468 %\n",
      "Complete:  72.34042553191489 %\n",
      "Complete:  74.46808510638297 %\n",
      "Complete:  76.59574468085107 %\n",
      "Complete:  78.72340425531915 %\n",
      "Complete:  80.85106382978724 %\n",
      "Complete:  82.97872340425532 %\n",
      "Complete:  85.1063829787234 %\n",
      "Complete:  87.23404255319149 %\n",
      "Complete:  89.36170212765957 %\n",
      "Complete:  91.48936170212765 %\n",
      "Complete:  93.61702127659575 %\n",
      "Complete:  95.74468085106383 %\n",
      "Complete:  97.87234042553192 %\n",
      "Complete:  100.0 %\n",
      "ipykernel_launcher:23: VisibleDeprecationWarning: Creating an ndarray from ragged nested sequences (which is a list-or-tuple of lists-or-tuples-or ndarrays with different lengths or shapes) is deprecated. If you meant to do this, you must specify 'dtype=object' when creating the ndarray\n",
      "Complete:  3.0303030303030303 %\n",
      "Complete:  6.0606060606060606 %\n",
      "Complete:  9.090909090909092 %\n",
      "Complete:  12.121212121212121 %\n",
      "Complete:  15.151515151515152 %\n",
      "Complete:  18.181818181818183 %\n",
      "Complete:  21.21212121212121 %\n",
      "Complete:  24.242424242424242 %\n",
      "Complete:  27.272727272727273 %\n",
      "Complete:  30.303030303030305 %\n",
      "Complete:  33.333333333333336 %\n",
      "Complete:  36.36363636363637 %\n",
      "Kyriakos Kapakoulak.wav\n",
      "Complete:  39.39393939393939 %\n",
      "Complete:  42.42424242424242 %\n",
      "Complete:  45.45454545454545 %\n",
      "Complete:  48.484848484848484 %\n",
      "Complete:  51.515151515151516 %\n",
      "Complete:  54.54545454545455 %\n",
      "Complete:  57.57575757575758 %\n",
      "Complete:  60.60606060606061 %\n",
      "Complete:  63.63636363636363 %\n",
      "Complete:  66.66666666666667 %\n",
      "Complete:  69.6969696969697 %\n",
      "Complete:  72.72727272727273 %\n",
      "Complete:  75.75757575757575 %\n",
      "Complete:  78.78787878787878 %\n",
      "Complete:  81.81818181818181 %\n",
      "Complete:  84.84848484848484 %\n",
      "Complete:  87.87878787878788 %\n",
      "Complete:  90.9090909090909 %\n",
      "Complete:  93.93939393939394 %\n",
      "Complete:  96.96969696969697 %\n",
      "Complete:  100.0 %\n",
      "Script complete with  0  errors.\n"
     ]
    }
   ],
   "source": [
    "#training dataset\n",
    "train_path  = '../dataset/wavLITE/train/'\n",
    "errors = []\n",
    "complete = 0\n",
    "dataset = []\n",
    "for filename in os.listdir(train_path+'true/'):\n",
    "    try:\n",
    "        fs, y = read(train_path+'true/'+filename)\n",
    "        if len(y) < 10387370:\n",
    "            print(filename)\n",
    "        dataset.append(np.array([y[:12000000],1]))\n",
    "        complete = complete + 1\n",
    "    except:\n",
    "        errors.append(filename)\n",
    "    print('Complete: ',(complete*100)/len(os.listdir(train_path+'true/')),'%')\n",
    "\n",
    "complete = 0\n",
    "for filename in os.listdir(train_path+'false/'):\n",
    "    try:\n",
    "        fs, y = read(train_path+'false/'+filename)\n",
    "        if len(y) < 10387370:\n",
    "            print(filename)\n",
    "        dataset.append(np.array([y[:12000000],0]))\n",
    "        complete = complete + 1\n",
    "    except:\n",
    "        errors.append(filename)\n",
    "    print('Complete: ',(complete*100)/len(os.listdir(train_path+'false/')),'%')\n",
    "\n",
    "print(\"Script complete with \", len(errors), \" errors.\")\n",
    "if len(errors):\n",
    "    for error in errors:\n",
    "        print(error)"
   ]
  },
  {
   "cell_type": "code",
   "execution_count": null,
   "metadata": {},
   "outputs": [],
   "source": [
    "#test dataset\n",
    "test_data = []\n",
    "test_path  = '../dataset/wavLITE/test/'\n",
    "\n",
    "complete = 0\n",
    "for filename in os.listdir(test_path+'true/'):\n",
    "    try:\n",
    "        fs, y = read(test_path+'true/'+filename)\n",
    "        dataset.append(np.array([y[:30000000],1]))\n",
    "        complete = complete + 1\n",
    "    except:\n",
    "        errors.append(filename)\n",
    "    print('Complete: ',(complete*100)/len(os.listdir(test_path+'true/')),'%')\n",
    "\n",
    "complete = 0\n",
    "for filename in os.listdir(test_path+'false/'):\n",
    "    try:\n",
    "        fs, y = read(test_path+'false/'+filename)\n",
    "        dataset.append(np.array([y[:30000000],0]))\n",
    "        complete = complete + 1\n",
    "    except:\n",
    "        errors.append(filename)\n",
    "    print('Complete: ',(complete*100)/len(os.listdir(test_path+'false/')),'%')\n",
    "\n",
    "print(\"Script complete with \", len(errors), \" errors.\")\n",
    "if len(errors):\n",
    "    for error in errors:\n",
    "        print(error)"
   ]
  },
  {
   "source": [
    "#Preprocess data"
   ],
   "cell_type": "markdown",
   "metadata": {}
  },
  {
   "cell_type": "code",
   "execution_count": null,
   "metadata": {},
   "outputs": [],
   "source": [
    "#pad data to 30000000\n",
    "for i in range(len(dataset)):\n",
    "    if len(dataset[i][0]) < 15000000:\n",
    "        for j in range(15000000 - len(dataset[i])):\n",
    "            np.append(dataset[i][0], np.array([0, 0]))\n",
    "    print(len(dataset[i][0]))"
   ]
  },
  {
   "cell_type": "code",
   "execution_count": null,
   "metadata": {},
   "outputs": [],
   "source": [
    "#Convert dataset list of numpy arrays to list of tensors\n",
    "for i in range(len(dataset)):    \n",
    "    dataset[i] = tf.convert_to_tensor(dataset[i])\n",
    "\n",
    "for i in range(len(test_data)):    \n",
    "    test_data[i] = tf.convert_to_tensor(test_data[i])\n",
    "\n"
   ]
  },
  {
   "cell_type": "code",
   "execution_count": null,
   "metadata": {},
   "outputs": [],
   "source": [
    "print(dataset[5][1])"
   ]
  },
  {
   "cell_type": "code",
   "execution_count": null,
   "metadata": {},
   "outputs": [],
   "source": [
    "print(dataset[5][0])"
   ]
  },
  {
   "cell_type": "code",
   "execution_count": null,
   "metadata": {},
   "outputs": [],
   "source": [
    "print(dataset[5][0][152151])"
   ]
  },
  {
   "cell_type": "code",
   "execution_count": null,
   "metadata": {},
   "outputs": [],
   "source": [
    "print(len(dataset[5][0]))"
   ]
  },
  {
   "cell_type": "code",
   "execution_count": null,
   "metadata": {},
   "outputs": [],
   "source": [
    "np.pad(dataset[5][0], 1000, mode = 'edge')"
   ]
  },
  {
   "cell_type": "code",
   "execution_count": 5,
   "metadata": {},
   "outputs": [],
   "source": [
    "min = len(dataset[0][0])\n",
    "for i in range(len(dataset)):\n",
    "    if len(dataset[i][0]) < min:\n",
    "        min = len(dataset[i][0])"
   ]
  },
  {
   "cell_type": "code",
   "execution_count": 6,
   "metadata": {},
   "outputs": [
    {
     "output_type": "stream",
     "name": "stdout",
     "text": [
      "10193520\n"
     ]
    }
   ],
   "source": [
    "print(min)"
   ]
  },
  {
   "cell_type": "code",
   "execution_count": null,
   "metadata": {},
   "outputs": [],
   "source": []
  }
 ]
}