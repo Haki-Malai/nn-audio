{
 "metadata": {
  "language_info": {
   "codemirror_mode": {
    "name": "ipython",
    "version": 3
   },
   "file_extension": ".py",
   "mimetype": "text/x-python",
   "name": "python",
   "nbconvert_exporter": "python",
   "pygments_lexer": "ipython3",
   "version": "3.6.3"
  },
  "orig_nbformat": 2,
  "kernelspec": {
   "name": "python363jvsc74a57bd04c622b718bf9e061ea1a692dd46a8bb5928d3145b3a402924c30e011fa7f6cdc",
   "display_name": "Python 3.6.3 64-bit"
  },
  "metadata": {
   "interpreter": {
    "hash": "4c622b718bf9e061ea1a692dd46a8bb5928d3145b3a402924c30e011fa7f6cdc"
   }
  }
 },
 "nbformat": 4,
 "nbformat_minor": 2,
 "cells": [
  {
   "cell_type": "code",
   "execution_count": null,
   "metadata": {},
   "outputs": [],
   "source": [
    "import numpy as np\n",
    "import pandas as pd\n",
    "import pydub\n",
    "import os\n",
    "import re\n",
    "from scipy.io.wavfile import read, write"
   ]
  },
  {
   "cell_type": "code",
   "execution_count": null,
   "metadata": {
    "tags": []
   },
   "outputs": [],
   "source": [
    "rate, y = read(\"../dataset/wav/True/LaMaxa.wav\")\n",
    "print(y[15555,0])"
   ]
  },
  {
   "cell_type": "code",
   "execution_count": null,
   "metadata": {},
   "outputs": [],
   "source": [
    "y = np.array(data)"
   ]
  },
  {
   "cell_type": "code",
   "execution_count": null,
   "metadata": {},
   "outputs": [],
   "source": [
    "y.dtype()"
   ]
  },
  {
   "cell_type": "code",
   "execution_count": null,
   "metadata": {},
   "outputs": [],
   "source": [
    "write('original.wav', 44100, y)"
   ]
  },
  {
   "cell_type": "code",
   "execution_count": null,
   "metadata": {},
   "outputs": [],
   "source": [
    "string = '   5.0097457e-03   9.1924089e-03'\n",
    "print(float(string.split(\"   \")[1]), float(string.split(\"   \")[2]))"
   ]
  },
  {
   "cell_type": "code",
   "execution_count": null,
   "metadata": {},
   "outputs": [],
   "source": [
    "\n",
    "path  = '../dataset/wav/False/'\n",
    "errors = 0\n",
    "complete = 0                             \n",
    "for filename in os.listdir(path):\n",
    "    fs, y = read(path+filename)\n",
    "    print(fs)\n",
    "print(\"Script complete with \", errors, \"errors\")"
   ]
  },
  {
   "cell_type": "code",
   "execution_count": null,
   "metadata": {},
   "outputs": [],
   "source": []
  }
 ]
}