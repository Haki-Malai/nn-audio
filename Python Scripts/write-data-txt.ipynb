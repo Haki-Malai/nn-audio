{
 "metadata": {
  "language_info": {
   "codemirror_mode": {
    "name": "ipython",
    "version": 3
   },
   "file_extension": ".py",
   "mimetype": "text/x-python",
   "name": "python",
   "nbconvert_exporter": "python",
   "pygments_lexer": "ipython3",
   "version": "3.6.3"
  },
  "orig_nbformat": 2,
  "kernelspec": {
   "name": "python363jvsc74a57bd04c622b718bf9e061ea1a692dd46a8bb5928d3145b3a402924c30e011fa7f6cdc",
   "display_name": "Python 3.6.3 64-bit"
  },
  "metadata": {
   "interpreter": {
    "hash": "4c622b718bf9e061ea1a692dd46a8bb5928d3145b3a402924c30e011fa7f6cdc"
   }
  }
 },
 "nbformat": 4,
 "nbformat_minor": 2,
 "cells": [
  {
   "source": [
    "# Loading Libraries"
   ],
   "cell_type": "markdown",
   "metadata": {}
  },
  {
   "cell_type": "code",
   "execution_count": 1,
   "metadata": {},
   "outputs": [
    {
     "output_type": "stream",
     "name": "stderr",
     "text": [
      "C:\\Users\\HakiM\\AppData\\Local\\Programs\\Python\\Python36\\lib\\site-packages\\pydub\\utils.py:170: RuntimeWarning: Couldn't find ffmpeg or avconv - defaulting to ffmpeg, but may not work\n  warn(\"Couldn't find ffmpeg or avconv - defaulting to ffmpeg, but may not work\", RuntimeWarning)\n"
     ]
    }
   ],
   "source": [
    "import pydub\n",
    "import os\n",
    "import re\n",
    "import numpy as np\n",
    "import pandas as pd\n",
    "import tensorflow as tf\n",
    "from scipy.io.wavfile import read, write"
   ]
  },
  {
   "source": [
    "# Loading the dataset"
   ],
   "cell_type": "markdown",
   "metadata": {}
  },
  {
   "cell_type": "code",
   "execution_count": 3,
   "metadata": {},
   "outputs": [
    {
     "output_type": "stream",
     "name": "stdout",
     "text": [
      "Complete:  1.9230769230769231 %\n",
      "Complete:  3.8461538461538463 %\n",
      "Complete:  5.769230769230769 %\n",
      "Complete:  7.6923076923076925 %\n",
      "Complete:  9.615384615384615 %\n",
      "Complete:  11.538461538461538 %\n",
      "Complete:  13.461538461538462 %\n",
      "Complete:  15.384615384615385 %\n",
      "Complete:  17.307692307692307 %\n",
      "Complete:  19.23076923076923 %\n",
      "Complete:  21.153846153846153 %\n",
      "Complete:  23.076923076923077 %\n",
      "Complete:  25.0 %\n",
      "Complete:  26.923076923076923 %\n",
      "Complete:  28.846153846153847 %\n",
      "Complete:  30.76923076923077 %\n",
      "Complete:  32.69230769230769 %\n",
      "Complete:  34.61538461538461 %\n",
      "Complete:  36.53846153846154 %\n",
      "Complete:  38.46153846153846 %\n",
      "Complete:  40.38461538461539 %\n",
      "Complete:  42.30769230769231 %\n",
      "Complete:  44.23076923076923 %\n",
      "Complete:  46.15384615384615 %\n",
      "Complete:  48.07692307692308 %\n",
      "Complete:  50.0 %\n",
      "Complete:  51.92307692307692 %\n",
      "Complete:  53.84615384615385 %\n",
      "Complete:  55.76923076923077 %\n",
      "Complete:  57.69230769230769 %\n",
      "Complete:  59.61538461538461 %\n",
      "Complete:  61.53846153846154 %\n",
      "Complete:  63.46153846153846 %\n",
      "Complete:  65.38461538461539 %\n",
      "Complete:  67.3076923076923 %\n",
      "Complete:  69.23076923076923 %\n",
      "Complete:  71.15384615384616 %\n",
      "Complete:  73.07692307692308 %\n",
      "Complete:  75.0 %\n",
      "Complete:  76.92307692307692 %\n",
      "Complete:  78.84615384615384 %\n",
      "Complete:  80.76923076923077 %\n",
      "Complete:  82.6923076923077 %\n",
      "Complete:  84.61538461538461 %\n",
      "Complete:  86.53846153846153 %\n",
      "Complete:  88.46153846153847 %\n",
      "Complete:  90.38461538461539 %\n",
      "Complete:  92.3076923076923 %\n",
      "Complete:  94.23076923076923 %\n",
      "Complete:  96.15384615384616 %\n",
      "Complete:  98.07692307692308 %\n",
      "Complete:  100.0 %\n",
      "Script complete with  0  errors.\n"
     ]
    }
   ],
   "source": [
    "path  = '../dataset/techno-only/'\n",
    "errors = []\n",
    "complete = 0\n",
    "dataset = []\n",
    "labels = []\n",
    "for filename in os.listdir(path):\n",
    "    try:\n",
    "        fs, y = read(path+filename)\n",
    "        dataset.append(np.array(y[5000000:5100000]))\n",
    "        labels.append(1)\n",
    "        complete = complete + 1\n",
    "        if len(y) < 10000000:\n",
    "            print(filename)\n",
    "    except:\n",
    "        errors.append(filename)\n",
    "    print('Complete: ',(complete*100)/len(os.listdir(path)),'%')\n",
    "\n",
    "complete = 0\n",
    "print(\"Script complete with \", len(errors), \" errors.\")\n",
    "if len(errors):\n",
    "    for error in errors:\n",
    "        print(error)"
   ]
  },
  {
   "cell_type": "code",
   "execution_count": 5,
   "metadata": {},
   "outputs": [],
   "source": [
    "import pickle\n",
    "\n",
    "with open(\"dataset.txt\", \"wb\") as fp: #Pickling\n",
    "    pickle.dump(dataset, fp)\n",
    "#with open(\"dataset.txt\", \"rb\") as fp:   # Unpickling\n",
    "#    dataset = pickle.load(fp)"
   ]
  },
  {
   "cell_type": "code",
   "execution_count": null,
   "metadata": {},
   "outputs": [],
   "source": []
  }
 ]
}